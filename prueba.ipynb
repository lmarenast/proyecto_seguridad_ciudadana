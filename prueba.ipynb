{
 "cells": [
  {
   "cell_type": "code",
   "execution_count": 1,
   "metadata": {},
   "outputs": [],
   "source": [
    "#Librerías necesarias\n",
    "\n",
    "import pandas as pd\n",
    "import numpy as np\n",
    "import matplotlib.pyplot as plt\n",
    "import seaborn as sns\n"
   ]
  },
  {
   "cell_type": "code",
   "execution_count": 16,
   "metadata": {},
   "outputs": [
    {
     "name": "stderr",
     "output_type": "stream",
     "text": [
      "C:\\Users\\Luis\\AppData\\Local\\Temp\\ipykernel_15804\\636492498.py:1: DtypeWarning: Columns (25) have mixed types. Specify dtype option on import or set low_memory=False.\n",
      "  df = pd.read_csv('Datos\\hurto_a_persona.csv', sep=';', encoding='latin-1')\n"
     ]
    }
   ],
   "source": [
    "df = pd.read_csv('Datos\\hurto_a_persona.csv', sep=';', encoding='latin-1')"
   ]
  },
  {
   "cell_type": "code",
   "execution_count": 20,
   "metadata": {},
   "outputs": [
    {
     "data": {
      "text/plain": [
       "Index(['fecha_hecho', 'cantidad', 'latitud', 'longitud', 'sexo', 'edad',\n",
       "       'estado_civil', 'grupo_actor', 'actividad_delictiva', 'parentesco',\n",
       "       'ocupacion', 'discapacidad', 'grupo_especial', 'medio_transporte',\n",
       "       'nivel_academico', 'testigo', 'conducta', 'modalidad',\n",
       "       'caracterizacion', 'conducta_especial', 'arma_medio', 'articulo_penal',\n",
       "       'categoria_penal', 'nombre_barrio', 'codigo_barrio', 'codigo_comuna',\n",
       "       'lugar', 'sede_receptora', 'bien', 'categoria_bien', 'grupo_bien',\n",
       "       'modelo', 'color', 'permiso', 'unidad_medida', 'fecha_ingestion'],\n",
       "      dtype='object')"
      ]
     },
     "execution_count": 20,
     "metadata": {},
     "output_type": "execute_result"
    }
   ],
   "source": [
    "df.columns"
   ]
  }
 ],
 "metadata": {
  "interpreter": {
   "hash": "2be5faf79681da6f2a61fdfdd5405d65d042280f7fba6178067603e3a2925119"
  },
  "kernelspec": {
   "display_name": "Python 3.10.2 64-bit",
   "language": "python",
   "name": "python3"
  },
  "language_info": {
   "codemirror_mode": {
    "name": "ipython",
    "version": 3
   },
   "file_extension": ".py",
   "mimetype": "text/x-python",
   "name": "python",
   "nbconvert_exporter": "python",
   "pygments_lexer": "ipython3",
   "version": "3.10.2"
  },
  "orig_nbformat": 4
 },
 "nbformat": 4,
 "nbformat_minor": 2
}
